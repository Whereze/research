{
 "cells": [
  {
   "cell_type": "code",
   "execution_count": 7,
   "id": "359ecd8e",
   "metadata": {},
   "outputs": [],
   "source": [
    "from parse_wiki_waterfalls import get_waterfalls_pages"
   ]
  },
  {
   "cell_type": "code",
   "execution_count": 10,
   "id": "9deb767c",
   "metadata": {},
   "outputs": [],
   "source": [
    "import csv"
   ]
  },
  {
   "cell_type": "code",
   "execution_count": 11,
   "id": "5078344d",
   "metadata": {},
   "outputs": [],
   "source": [
    "waterfalls_csv = get_waterfalls_pages()"
   ]
  },
  {
   "cell_type": "code",
   "execution_count": 12,
   "id": "4384a4a5",
   "metadata": {},
   "outputs": [],
   "source": [
    "with open('waterfalls_database.csv','w',encoding='utf-8') as f:\n",
    "    fields = ['title','summary']\n",
    "    writer = csv.DictWriter(f, fields, delimiter=';')\n",
    "    for row in waterfalls_csv:\n",
    "        writer.writerow(row)     "
   ]
  },
  {
   "cell_type": "code",
   "execution_count": null,
   "id": "d021277c",
   "metadata": {},
   "outputs": [],
   "source": []
  }
 ],
 "metadata": {
  "kernelspec": {
   "display_name": "Python 3 (ipykernel)",
   "language": "python",
   "name": "python3"
  },
  "language_info": {
   "codemirror_mode": {
    "name": "ipython",
    "version": 3
   },
   "file_extension": ".py",
   "mimetype": "text/x-python",
   "name": "python",
   "nbconvert_exporter": "python",
   "pygments_lexer": "ipython3",
   "version": "3.9.6"
  }
 },
 "nbformat": 4,
 "nbformat_minor": 5
}
