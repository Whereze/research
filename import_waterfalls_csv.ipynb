{
 "cells": [
  {
   "cell_type": "code",
   "execution_count": 1,
   "id": "359ecd8e",
   "metadata": {},
   "outputs": [],
   "source": [
    "from parse_wiki_waterfalls import get_waterfalls_pages"
   ]
  },
  {
   "cell_type": "code",
   "execution_count": 2,
   "id": "9deb767c",
   "metadata": {},
   "outputs": [],
   "source": [
    "import csv"
   ]
  },
  {
   "cell_type": "code",
   "execution_count": 3,
   "id": "5078344d",
   "metadata": {},
   "outputs": [
    {
     "name": "stderr",
     "output_type": "stream",
     "text": [
      "/Users/annadvoskina/projects/Whereze/research/.venv/lib/python3.9/site-packages/wikipedia/wikipedia.py:389: GuessedAtParserWarning: No parser was explicitly specified, so I'm using the best available HTML parser for this system (\"html.parser\"). This usually isn't a problem, but if you run this code on another system, or in a different virtual environment, it may use a different parser and behave differently.\n",
      "\n",
      "The code that caused this warning is on line 389 of the file /Users/annadvoskina/projects/Whereze/research/.venv/lib/python3.9/site-packages/wikipedia/wikipedia.py. To get rid of this warning, pass the additional argument 'features=\"html.parser\"' to the BeautifulSoup constructor.\n",
      "\n",
      "  lis = BeautifulSoup(html).find_all('li')\n"
     ]
    }
   ],
   "source": [
    "waterfalls_csv = get_waterfalls_pages()"
   ]
  },
  {
   "cell_type": "code",
   "execution_count": 4,
   "id": "4384a4a5",
   "metadata": {},
   "outputs": [],
   "source": [
    "with open('waterfalls_database.csv','w',encoding='utf-8') as f:\n",
    "    fields = ['title','summary','url']\n",
    "    writer = csv.DictWriter(f, fields, delimiter=';')\n",
    "    writer.writeheader()\n",
    "    for row in waterfalls_csv:\n",
    "        writer.writerow(row)     "
   ]
  },
  {
   "cell_type": "code",
   "execution_count": null,
   "id": "d021277c",
   "metadata": {},
   "outputs": [],
   "source": []
  }
 ],
 "metadata": {
  "kernelspec": {
   "display_name": "Python 3 (ipykernel)",
   "language": "python",
   "name": "python3"
  },
  "language_info": {
   "codemirror_mode": {
    "name": "ipython",
    "version": 3
   },
   "file_extension": ".py",
   "mimetype": "text/x-python",
   "name": "python",
   "nbconvert_exporter": "python",
   "pygments_lexer": "ipython3",
   "version": "3.9.6"
  }
 },
 "nbformat": 4,
 "nbformat_minor": 5
}
