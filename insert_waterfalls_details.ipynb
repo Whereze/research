{
 "cells": [
  {
   "cell_type": "code",
   "execution_count": 1,
   "id": "653df2e4",
   "metadata": {},
   "outputs": [],
   "source": [
    "from adding_height_and_country import get_waterfalls_details"
   ]
  },
  {
   "cell_type": "code",
   "execution_count": 2,
   "id": "e135d242",
   "metadata": {},
   "outputs": [],
   "source": [
    "import csv"
   ]
  },
  {
   "cell_type": "code",
   "execution_count": 3,
   "id": "c3e480df",
   "metadata": {},
   "outputs": [],
   "source": [
    "waterfalls_csv = get_waterfalls_details()"
   ]
  },
  {
   "cell_type": "code",
   "execution_count": 4,
   "id": "0c07598b",
   "metadata": {},
   "outputs": [],
   "source": [
    "with open('waterfalls_details.csv','w',encoding='utf-8') as f:\n",
    "    fields = ['title','summary','url','height','width','river','country','region','RF_subject']\n",
    "    writer = csv.DictWriter(f, fields, delimiter=';')\n",
    "    writer.writeheader()\n",
    "    for row in waterfalls_csv:\n",
    "        writer.writerow(row)     "
   ]
  },
  {
   "cell_type": "code",
   "execution_count": null,
   "id": "932d678a",
   "metadata": {},
   "outputs": [],
   "source": []
  }
 ],
 "metadata": {
  "kernelspec": {
   "display_name": "Python 3 (ipykernel)",
   "language": "python",
   "name": "python3"
  },
  "language_info": {
   "codemirror_mode": {
    "name": "ipython",
    "version": 3
   },
   "file_extension": ".py",
   "mimetype": "text/x-python",
   "name": "python",
   "nbconvert_exporter": "python",
   "pygments_lexer": "ipython3",
   "version": "3.9.6"
  }
 },
 "nbformat": 4,
 "nbformat_minor": 5
}
